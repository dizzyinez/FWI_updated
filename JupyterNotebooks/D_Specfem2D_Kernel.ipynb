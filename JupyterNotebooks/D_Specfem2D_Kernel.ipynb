{
 "cells": [
  {
   "cell_type": "markdown",
   "id": "833a0799",
   "metadata": {},
   "source": [
    "# 2D Kernel with SPECFEM2D\n",
    "By Andrea R.  \n",
    "Utility functions written by Ridvan Orsvuran.  \n",
    "Following file structure as in the Seisflows example (By Bryant Chow)"
   ]
  },
  {
   "cell_type": "code",
   "execution_count": 45,
   "id": "93fc2793",
   "metadata": {},
   "outputs": [],
   "source": [
    "import os\n",
    "import shutil\n",
    "import matplotlib\n",
    "import numpy as np\n",
    "import FunctionsPlotBin\n",
    "import matplotlib.pyplot as plt\n",
    "\n",
    "from UtilityFunctions import read_trace, specfem2D_prep_save_forward, replace_line, save_trace, specfem2D_prep_adjoint, grid\n",
    "from scipy.integrate import simpson"
   ]
  },
  {
   "cell_type": "markdown",
   "id": "8b6679db",
   "metadata": {},
   "source": [
    "# Domain: \n",
    "2D:   \n",
    "x-dir = 4000 m   \n",
    "z-dir = 4000 m   \n",
    "\n",
    "### Source location\n",
    "original x:    1000 m     \n",
    "original z:    2000 m  \n",
    "\n",
    "### Output station location: \n",
    "Station #1   AAS0001                             \n",
    "original x:    3000 m  \n",
    "original z:    2000 m  \n",
    "\n",
    "### Boundary conditions \n",
    "Type: STACEY_ABSORBING_CONDITIONS  \n",
    "absorbbottom                    = true  \n",
    "absorbright                     = true  \n",
    "absorbtop                       = true  \n",
    "absorbleft                      = true  \n",
    "\n",
    "### Velocity model:\n",
    "\n",
    "#### Initial model:  \n",
    "Model: P (or PI) velocity min,max =    3000 m/s              \n",
    "Model: S velocity min,max         =    1800 m/s        \n",
    "Model: density min,max            =    2700 kg/m3           \n",
    "\n",
    "#### True model (~1% perturbation of the Vs - initial model):   \n",
    "Model: P (or PI) velocity min,max =    3000 m/s                \n",
    "Model: S velocity min,max         =    1820 m/s          \n",
    "Model: density min,max            =    2700 kg/m3      "
   ]
  },
  {
   "cell_type": "markdown",
   "id": "6b8923d9",
   "metadata": {},
   "source": [
    "### Set Specfem2D and work directories "
   ]
  },
  {
   "cell_type": "code",
   "execution_count": 46,
   "id": "5165710b",
   "metadata": {},
   "outputs": [],
   "source": [
    "os.chdir(\"/home/inez/Documents/School/MATH598A/FWI_updated/JupyterNotebooks\")\n",
    "specfem2d_path = \"/home/inez/Documents/School/MATH598A\"\n",
    "EXAMPLE = os.path.join(os.getcwd(),\"Examples\", \"DATA_Example01\")\n",
    "WORKDIR = os.path.join(os.getcwd(),\"work\")\n",
    "\n",
    "# Incase we've run this docs page before, delete the working directory before remaking\n",
    "if os.path.exists(WORKDIR):\n",
    "    shutil.rmtree(WORKDIR)"
   ]
  },
  {
   "cell_type": "code",
   "execution_count": 47,
   "id": "7a8d28eb",
   "metadata": {},
   "outputs": [],
   "source": [
    "# Distribute the necessary file structure of the SPECFEM2D repository that we will reference\n",
    "SPECFEM2D_ORIGINAL = os.path.join(specfem2d_path, \"specfem2d\") \n",
    "SPECFEM2D_BIN_ORIGINAL = os.path.join(SPECFEM2D_ORIGINAL, \"bin\")\n",
    "SPECFEM2D_DATA_ORIGINAL = os.path.join(SPECFEM2D_ORIGINAL, \"DATA\")\n",
    "\n",
    "# The SPECFEM2D working directory that we will create separate from the downloaded repo\n",
    "SPECFEM2D_WORKDIR = os.path.join(WORKDIR, \"ExampleKernel\")\n",
    "SPECFEM2D_BIN = os.path.join(SPECFEM2D_WORKDIR, \"bin\")\n",
    "SPECFEM2D_DATA = os.path.join(SPECFEM2D_WORKDIR, \"DATA\")\n",
    "SPECFEM2D_OUTPUT = os.path.join(SPECFEM2D_WORKDIR, \"OUTPUT_FILES\")\n",
    "\n",
    "# Pre-defined locations of velocity models we will generate using the solver\n",
    "SPECFEM2D_MODEL_INIT = os.path.join(SPECFEM2D_WORKDIR, \"OUTPUT_FILES_INIT\")\n",
    "SPECFEM2D_MODEL_TRUE = os.path.join(SPECFEM2D_WORKDIR, \"OUTPUT_FILES_TRUE\")"
   ]
  },
  {
   "cell_type": "code",
   "execution_count": 48,
   "id": "e9d80208",
   "metadata": {},
   "outputs": [
    {
     "name": "stdout",
     "output_type": "stream",
     "text": [
      "/home/inez/Documents/School/MATH598A/FWI_updated/JupyterNotebooks\n",
      "A_InstallingSpecfem2d.ipynb\t       FunctionsPlotBin.py\n",
      "B_Specfem2D_Example.ipynb\t       __pycache__\n",
      "C_Specfem2D_Tomofile.ipynb\t       README.md\n",
      "D_Specfem2D_Kernel.ipynb\t       UtilityFunctions.py\n",
      "E_Specfem2D_ExampleLayeredModel.ipynb  work\n",
      "Examples\n"
     ]
    }
   ],
   "source": [
    "# Copy the binary files incase we update the source code. These can also be symlinked.\n",
    "shutil.copytree(SPECFEM2D_BIN_ORIGINAL, SPECFEM2D_BIN)\n",
    "\n",
    "# Copy the DATA/ directory\n",
    "shutil.copytree(EXAMPLE, SPECFEM2D_DATA)\n",
    "!pwd\n",
    "!ls"
   ]
  },
  {
   "cell_type": "markdown",
   "id": "ebfff584",
   "metadata": {},
   "source": [
    "### Generate true model"
   ]
  },
  {
   "cell_type": "code",
   "execution_count": 49,
   "id": "741e4918",
   "metadata": {},
   "outputs": [],
   "source": [
    "os.chdir(SPECFEM2D_DATA)\n",
    "specfem2D_prep_save_forward(\"Par_file\")\n",
    "# Modify the Par_file to increase Initial Vs by ~1% \n",
    "replace_line(\"Par_file\",264,'1 1 2700.d0 3000.d0 1820.d0 0 0 9999 9999 0 0 0 0 0 0 \\n')"
   ]
  },
  {
   "cell_type": "code",
   "execution_count": 50,
   "id": "f09eda96",
   "metadata": {},
   "outputs": [
    {
     "name": "stdout",
     "output_type": "stream",
     "text": [
      "bin  DATA  OUTPUT_FILES\n"
     ]
    }
   ],
   "source": [
    "# create the OUTPUT_FILES directory before running \n",
    "os.chdir(SPECFEM2D_WORKDIR)\n",
    "if os.path.exists(SPECFEM2D_OUTPUT):\n",
    "    shutil.rmtree(SPECFEM2D_OUTPUT)\n",
    "    shutil.rmtree(SPECFEM2D_MODEL_INIT)\n",
    "    shutil.rmtree(SPECFEM2D_MODEL_TRUE)\n",
    "os.mkdir(SPECFEM2D_OUTPUT)\n",
    "!ls"
   ]
  },
  {
   "cell_type": "code",
   "execution_count": 51,
   "id": "5b9287b5-25cb-412a-a596-9c8cea32475c",
   "metadata": {
    "scrolled": true
   },
   "outputs": [
    {
     "name": "stdout",
     "output_type": "stream",
     "text": [
      "STOP Error, program ended in exit_MPI\n",
      "\n",
      " **********************************************\n",
      " **** Specfem 2-D Solver - serial version  ****\n",
      " **********************************************\n",
      "\n",
      " Running Git version of the code corresponding to 11e23032568fce4b93b9491a4d1bb7829341b0fb\n",
      " dating 2025-01-27 20:58:02 +0100\n",
      "\n",
      "\n",
      " NDIM =            2\n",
      "   setup with binary database :            0\n",
      "\n",
      "   tomographic model file: dummy\n",
      "      reading in tomography model data\n",
      "      file format: ascii\n",
      "\n",
      " Error: could not open tomography file: dummy\n",
      " Please check your settings in Par_file ...\n",
      " Error reading tomography file\n",
      " Error detected, aborting MPI... proc            0\n"
     ]
    }
   ],
   "source": [
    "## os.chdir(SPECFEM2D_WORKDIR)\n",
    "!bin/xmeshfem2D > OUTPUT_FILES/mesher_log.txt\n",
    "!bin/xspecfem2D > OUTPUT_FILES/solver_log.txt\n",
    "\n",
    "# Move the model files (*.bin) into the OUTPUT_FILES directory\n",
    "!cp DATA/Par_file OUTPUT_FILES\n",
    "\n",
    "# Make sure we don't overwrite this target model when creating our initial model in the next step\n",
    "!mv OUTPUT_FILES OUTPUT_FILES_TRUE\n",
    "\n",
    "!head OUTPUT_FILES_TRUE/solver_log.txt\n",
    "!tail OUTPUT_FILES_TRUE/solver_log.txt"
   ]
  },
  {
   "cell_type": "code",
   "execution_count": 8,
   "id": "68b8afdf",
   "metadata": {},
   "outputs": [
    {
     "ename": "AssertionError",
     "evalue": "",
     "output_type": "error",
     "traceback": [
      "\u001b[0;31m---------------------------------------------------------------------------\u001b[0m",
      "\u001b[0;31mAssertionError\u001b[0m                            Traceback (most recent call last)",
      "Cell \u001b[0;32mIn[8], line 6\u001b[0m\n\u001b[1;32m      3\u001b[0m Vs_true       \u001b[38;5;241m=\u001b[39m \u001b[38;5;124m'\u001b[39m\u001b[38;5;124mOUTPUT_FILES_TRUE/proc000000_vs.bin\u001b[39m\u001b[38;5;124m'\u001b[39m\n\u001b[1;32m      5\u001b[0m \u001b[38;5;66;03m# Plot \u001b[39;00m\n\u001b[0;32m----> 6\u001b[0m \u001b[43mFunctionsPlotBin\u001b[49m\u001b[38;5;241;43m.\u001b[39;49m\u001b[43mplotbin\u001b[49m\u001b[43m(\u001b[49m\u001b[43mx_coords_file\u001b[49m\u001b[43m,\u001b[49m\u001b[43mz_coords_file\u001b[49m\u001b[43m,\u001b[49m\u001b[43mVs_true\u001b[49m\u001b[43m,\u001b[49m\u001b[43mSPECFEM2D_WORKDIR\u001b[49m\u001b[38;5;241;43m+\u001b[39;49m\u001b[38;5;124;43m'\u001b[39;49m\u001b[38;5;124;43m/Vs_true\u001b[39;49m\u001b[38;5;124;43m'\u001b[39;49m\u001b[43m,\u001b[49m\u001b[38;5;124;43m'\u001b[39;49m\u001b[38;5;124;43mVs_true=m/s\u001b[39;49m\u001b[38;5;124;43m'\u001b[39;49m\u001b[43m)\u001b[49m\n",
      "File \u001b[0;32m~/Documents/School/MATH598A/FWI_updated/JupyterNotebooks/FunctionsPlotBin.py:124\u001b[0m, in \u001b[0;36mplotbin\u001b[0;34m(x_coords_file, z_coords_file, database_file, figname, figlabel)\u001b[0m\n\u001b[1;32m    121\u001b[0m \u001b[38;5;28;01massert\u001b[39;00m \u001b[38;5;124m'\u001b[39m\u001b[38;5;124mproc000000_\u001b[39m\u001b[38;5;124m'\u001b[39m \u001b[38;5;129;01min\u001b[39;00m database_file\n\u001b[1;32m    123\u001b[0m \u001b[38;5;66;03m# check that files actually exist\u001b[39;00m\n\u001b[0;32m--> 124\u001b[0m \u001b[38;5;28;01massert\u001b[39;00m exists(x_coords_file)\n\u001b[1;32m    125\u001b[0m \u001b[38;5;28;01massert\u001b[39;00m exists(z_coords_file)\n\u001b[1;32m    126\u001b[0m \u001b[38;5;28;01massert\u001b[39;00m exists(database_file)\n",
      "\u001b[0;31mAssertionError\u001b[0m: "
     ]
    }
   ],
   "source": [
    "x_coords_file = 'OUTPUT_FILES_TRUE/proc000000_x.bin'\n",
    "z_coords_file = 'OUTPUT_FILES_TRUE/proc000000_z.bin'\n",
    "Vs_true       = 'OUTPUT_FILES_TRUE/proc000000_vs.bin'\n",
    "\n",
    "# Plot \n",
    "FunctionsPlotBin.plotbin(x_coords_file,z_coords_file,Vs_true,SPECFEM2D_WORKDIR+'/Vs_true','Vs_true=m/s')"
   ]
  },
  {
   "cell_type": "markdown",
   "id": "43a0fa61",
   "metadata": {},
   "source": [
    "### Generate initial model"
   ]
  },
  {
   "cell_type": "code",
   "execution_count": 34,
   "id": "e04d37e9",
   "metadata": {},
   "outputs": [],
   "source": [
    "os.chdir(SPECFEM2D_DATA)\n",
    "replace_line(\"Par_file\",269,'1 1 2700.d0 3000.d0 1800.d0 0 0 9999 9999 0 0 0 0 0 0 \\n')"
   ]
  },
  {
   "cell_type": "code",
   "execution_count": 35,
   "id": "96d2085b",
   "metadata": {},
   "outputs": [
    {
     "name": "stdout",
     "output_type": "stream",
     "text": [
      "bin  DATA  OUTPUT_FILES  OUTPUT_FILES_INIT  OUTPUT_FILES_TRUE\n"
     ]
    }
   ],
   "source": [
    "# create the OUTPUT_FILES directory before running \n",
    "os.chdir(SPECFEM2D_WORKDIR)\n",
    "if os.path.exists(SPECFEM2D_OUTPUT):\n",
    "    shutil.rmtree(SPECFEM2D_OUTPUT)\n",
    "os.mkdir(SPECFEM2D_OUTPUT)\n",
    "!ls"
   ]
  },
  {
   "cell_type": "code",
   "execution_count": 36,
   "id": "e7fd127d",
   "metadata": {},
   "outputs": [
    {
     "name": "stdout",
     "output_type": "stream",
     "text": [
      "STOP Error, program ended in exit_MPI\n",
      "\n",
      " **********************************************\n",
      " **** Specfem 2-D Solver - serial version  ****\n",
      " **********************************************\n",
      "\n",
      " Running Git version of the code corresponding to 11e23032568fce4b93b9491a4d1bb7829341b0fb\n",
      " dating 2025-01-27 20:58:02 +0100\n",
      "\n",
      "\n",
      " NDIM =            2\n",
      "   setup with binary database :            0\n",
      "\n",
      "   tomographic model file: dummy\n",
      "      reading in tomography model data\n",
      "      file format: ascii\n",
      "\n",
      " Error: could not open tomography file: dummy\n",
      " Please check your settings in Par_file ...\n",
      " Error reading tomography file\n",
      " Error detected, aborting MPI... proc            0\n"
     ]
    }
   ],
   "source": [
    "os.chdir(SPECFEM2D_WORKDIR)\n",
    "!bin/xmeshfem2D > OUTPUT_FILES/mesher_log.txt\n",
    "!bin/xspecfem2D > OUTPUT_FILES/solver_log.txt\n",
    "\n",
    "# Move the model files (*.bin) into the OUTPUT_FILES directory\n",
    "# The binary files of the velocity models are stored in DATA after running xspecfem2D\n",
    "!mv DATA/*bin OUTPUT_FILES\n",
    "\n",
    "# Store output files of initial model\n",
    "!mv OUTPUT_FILES OUTPUT_FILES_INIT\n",
    "\n",
    "!head OUTPUT_FILES_INIT/solver_log.txt\n",
    "!tail OUTPUT_FILES_INIT/solver_log.txt"
   ]
  },
  {
   "cell_type": "code",
   "execution_count": null,
   "id": "10533de9",
   "metadata": {},
   "outputs": [],
   "source": [
    "x_coords_file = 'OUTPUT_FILES_INIT/proc000000_x.bin'\n",
    "z_coords_file = 'OUTPUT_FILES_INIT/proc000000_z.bin'\n",
    "Vs_true       = 'OUTPUT_FILES_INIT/proc000000_vs.bin'\n",
    "\n",
    "# Plot \n",
    "FunctionsPlotBin.plotbin(x_coords_file,z_coords_file,Vs_true,SPECFEM2D_WORKDIR+'/Vs_init','Vs_init=m/s')"
   ]
  },
  {
   "cell_type": "markdown",
   "id": "0e06d6ee",
   "metadata": {},
   "source": [
    "### 3. Plot synthetic seismogram"
   ]
  },
  {
   "cell_type": "code",
   "execution_count": null,
   "id": "d42cf93f",
   "metadata": {},
   "outputs": [],
   "source": [
    "os.chdir(SPECFEM2D_WORKDIR)\n",
    "# Read synthetic seismogram\n",
    "obsd = read_trace(os.path.join(\"OUTPUT_FILES_TRUE\",\"AA.S0001.BXY.semd\"))\n",
    "synt = read_trace(os.path.join(\"OUTPUT_FILES_INIT\",\"AA.S0001.BXY.semd\"))\n",
    "\n",
    "# Process data\n",
    "obsd.detrend(\"simple\")\n",
    "obsd.taper(0.05)\n",
    "obsd.filter(\"bandpass\", freqmin=0.01, freqmax=20)\n",
    "\n",
    "synt.detrend(\"simple\")\n",
    "synt.taper(0.05)\n",
    "synt.filter(\"bandpass\", freqmin=0.01, freqmax=20)\n",
    "\n",
    "\n",
    "matplotlib.rcParams.update({'font.size': 14})\n",
    "fig, ax = plt.subplots(figsize=(20, 4))\n",
    "# Use the beginning time value from the file: tr.times()+tr.stats.b\n",
    "ax.plot(obsd.times()+obsd.stats.b, obsd.data, \"b\", label=\"Obsd\")\n",
    "ax.plot(synt.times()+synt.stats.b, synt.data, \"r\", label=\"Synt\")\n",
    "ax.set_xlim(synt.stats.b, synt.times()[-1]+synt.stats.b)\n",
    "ax.legend(frameon=False)\n",
    "ax.set_xlabel(\"Time (s)\");\n",
    "ax.set_ylabel(\"Displacement (m)\");\n",
    "ax.tick_params(axis='both',which='major',labelsize=14)"
   ]
  },
  {
   "cell_type": "markdown",
   "id": "02c7723a",
   "metadata": {},
   "source": [
    "### Misfit Calculation and Adjoint Source\n",
    "For one seismogram, waveform misfit is\n",
    "\n",
    "$$ \\chi = \\frac{1}{2} \\int [d(t)-s(t)]^2 dt~, $$\n",
    "\n",
    "\n",
    "and waveform adjoint source is\n",
    "\n",
    "$$  f^\\dagger (t) = s(t) - d(t)~,$$\n",
    "\n",
    "where $s(t)$ is the synthetic, $d(t)$ is the observed seismograms."
   ]
  },
  {
   "cell_type": "code",
   "execution_count": null,
   "id": "8a56becb",
   "metadata": {},
   "outputs": [],
   "source": [
    "# Misfit\n",
    "misfit = simpson((obsd.data-synt.data)**2, dx=obsd.stats.delta)\n",
    "print(f\"Misfit: {misfit:.6f}\")\n",
    "norm = simpson(obsd.data**2,dx=obsd.stats.delta)\n",
    "\n",
    "# Adjoint Source\n",
    "adj = synt.copy()\n",
    "adj.data = (synt.data - obsd.data)/norm\n",
    "\n",
    "\n",
    "# Process \n",
    "adj.detrend(\"simple\")\n",
    "adj.taper(0.05)\n",
    "adj.filter(\"bandpass\", freqmin=0.01, freqmax=20)"
   ]
  },
  {
   "cell_type": "markdown",
   "id": "a1418d37",
   "metadata": {},
   "source": [
    "### Traveltime Misfit"
   ]
  },
  {
   "cell_type": "code",
   "execution_count": null,
   "id": "25db81ee",
   "metadata": {},
   "outputs": [],
   "source": [
    "cc = np.correlate(obsd.data, synt.data, mode=\"full\")\n",
    "time_shift = cc.argmax() - len(obsd.data) + 1\n",
    "\n",
    "misfit = 0.5*(time_shift**2)\n",
    "\n",
    "_v = np.gradient(synt.data, synt.stats.delta)\n",
    "norm_t = simpson(_v**2, dx=synt.stats.delta)\n",
    "adj_t = synt.copy()\n",
    "adj_t.data = time_shift*_v/norm_t\n",
    "\n",
    "adj_t.detrend(\"simple\")\n",
    "adj_t.taper(0.05)\n",
    "adj_t.filter(\"bandpass\", freqmin=0.01, freqmax=20)"
   ]
  },
  {
   "cell_type": "markdown",
   "id": "60fc56cf",
   "metadata": {},
   "source": [
    "### Amplitude Misfit"
   ]
  },
  {
   "cell_type": "code",
   "execution_count": null,
   "id": "be9ec258",
   "metadata": {},
   "outputs": [],
   "source": [
    "amp_ratio = np.max(obsd.data) / np.max(synt.data)\n",
    "misfit =  0.5 * (np.log(amp_ratio) ** 2)\n",
    "norm_a = simpson(synt.data**2, dx=synt.stats.delta)\n",
    "adj_a = synt.copy()\n",
    "adj_a.data = -1.0 * np.log(amp_ratio) * synt.data / norm_a\n",
    "\n",
    "adj_a.detrend(\"simple\")\n",
    "adj_a.taper(0.05)\n",
    "adj_a.filter(\"bandpass\", freqmin=0.01, freqmax=20)\n"
   ]
  },
  {
   "cell_type": "code",
   "execution_count": null,
   "id": "2dc8b433",
   "metadata": {},
   "outputs": [],
   "source": [
    "fig, axes = plt.subplots(nrows=4, sharex=True, figsize=(24, 8))\n",
    "axes[0].plot(obsd.times()+obsd.stats.b, obsd.data, \"b\", label=\"obsd\")\n",
    "axes[0].plot(synt.times()+synt.stats.b, synt.data, \"r\", label=\"synt\")\n",
    "axes[0].set_xlim(obsd.stats.b, obsd.times()[-1]+obsd.stats.b)\n",
    "axes[0].legend()\n",
    "axes[0].legend(frameon=False)\n",
    "axes[0].set_ylabel(\"Displacement (m)\");\n",
    "\n",
    "axes[1].plot(adj.times()+adj.stats.b, adj.data, \"g\", label=\"Adjoint Waveform Source\")\n",
    "axes[1].legend()\n",
    "axes[1].legend(frameon=False)\n",
    "axes[1].set_xlabel(\"Time (s)\");\n",
    "ax.tick_params(axis='both',which='major',labelsize=14)\n",
    "matplotlib.rcParams.update({'font.size': 14})\n",
    "\n",
    "axes[2].plot(adj.times()+adj.stats.b, adj_t.data, \"g\", label=\"Adjoint Traveltime Source\")\n",
    "axes[2].legend()\n",
    "axes[2].legend(frameon=False)\n",
    "axes[2].set_xlabel(\"Time (s)\");\n",
    "ax.tick_params(axis='both',which='major',labelsize=14)\n",
    "matplotlib.rcParams.update({'font.size': 14})\n",
    "\n",
    "axes[3].plot(adj.times()+adj.stats.b, adj_a.data, \"g\", label=\"Adjoint Amplitude Source\")\n",
    "axes[3].legend()\n",
    "axes[3].legend(frameon=False)\n",
    "axes[3].set_xlabel(\"Time (s)\");\n",
    "ax.tick_params(axis='both',which='major',labelsize=14)\n",
    "matplotlib.rcParams.update({'font.size': 14})"
   ]
  },
  {
   "cell_type": "markdown",
   "id": "eabddd95",
   "metadata": {},
   "source": [
    "### Adjoint simulation"
   ]
  },
  {
   "cell_type": "code",
   "execution_count": null,
   "id": "d0e1e14a",
   "metadata": {},
   "outputs": [],
   "source": []
  },
  {
   "cell_type": "code",
   "execution_count": null,
   "id": "96c6e3d0",
   "metadata": {},
   "outputs": [],
   "source": [
    "os.chdir(SPECFEM2D_WORKDIR)\n",
    "# Save adjoint source to SEM directory\n",
    "os.makedirs(\"SEM\", exist_ok=True)\n",
    "save_trace(adj_a, \"SEM/AA.S0001.BXY.adj\")"
   ]
  },
  {
   "cell_type": "markdown",
   "id": "7b39f16a",
   "metadata": {},
   "source": [
    "For adjoint simulation, following `DATA/Par_file` needs be set\n",
    "\n",
    "```toml\n",
    "SIMULATION_TYPE                 = 3\n",
    "# save the last frame, needed for adjoint simulation\n",
    "SAVE_FORWARD                    = .false.\n",
    "```\n",
    "\n",
    "`specfem2D_prep_adjoint` function can be used for this purpose."
   ]
  },
  {
   "cell_type": "code",
   "execution_count": null,
   "id": "16fb707a",
   "metadata": {},
   "outputs": [],
   "source": [
    "# Prepare Par_file\n",
    "os.chdir(SPECFEM2D_DATA)\n",
    "specfem2D_prep_adjoint(\"Par_file\")"
   ]
  },
  {
   "cell_type": "code",
   "execution_count": null,
   "id": "c6bca399",
   "metadata": {},
   "outputs": [],
   "source": [
    "# create the OUTPUT_FILES directory before running and copy \n",
    "# results of OUTPUT_FILES_INIT to the new created OUTPUT_FILES, this is needed\n",
    "# for the adjoint simulation because we saved the last frame in the \n",
    "# forward simulation of the initial model\n",
    "\n",
    "os.chdir(SPECFEM2D_WORKDIR)\n",
    "if os.path.exists(SPECFEM2D_OUTPUT):\n",
    "    shutil.rmtree(SPECFEM2D_OUTPUT)\n",
    "os.mkdir(SPECFEM2D_OUTPUT)\n",
    "!cp OUTPUT_FILES_INIT/* OUTPUT_FILES\n",
    "!ls\n"
   ]
  },
  {
   "cell_type": "code",
   "execution_count": null,
   "id": "31ee4730",
   "metadata": {},
   "outputs": [],
   "source": [
    "os.chdir(SPECFEM2D_WORKDIR)\n",
    "!bin/xmeshfem2D > OUTPUT_FILES/mesher_log.txt\n",
    "!bin/xspecfem2D > OUTPUT_FILES/solver_log.txt\n",
    "\n",
    "# Move the model files (*.bin) into the OUTPUT_FILES directory\n",
    "# The binary files of the velocity models are stored in DATA after running xspecfem2D\n",
    "!mv DATA/*bin OUTPUT_FILES\n",
    "\n",
    "# Make sure we don't overwrite output files \n",
    "!mv OUTPUT_FILES OUTPUT_FILES_ADJ\n",
    "\n",
    "!head OUTPUT_FILES_ADJ/solver_log.txt\n",
    "!tail OUTPUT_FILES_ADJ/solver_log.txt"
   ]
  },
  {
   "cell_type": "markdown",
   "id": "d05cc05e",
   "metadata": {},
   "source": [
    "### Plotting the Kernels\n",
    "\n",
    "`./OUTPUT_FILES/proc000000_rhop_alpha_beta_kernel.dat` file holds the kernel data.\n",
    "\n",
    "It is a text file contains 5 columns: `x`, `z`, `rhop`, `alpha`, `beta`."
   ]
  },
  {
   "cell_type": "code",
   "execution_count": null,
   "id": "101ce4a3",
   "metadata": {},
   "outputs": [],
   "source": [
    "data = np.loadtxt(\"./OUTPUT_FILES_ADJ/proc000000_rhop_alpha_beta_kernel.dat\")\n",
    "\n",
    "# first column: x\n",
    "x = data[:, 0]\n",
    "# second column: z\n",
    "z = data[:, 1]\n",
    "# fifth column: beta_kernel\n",
    "beta = data[:, 4]\n",
    "\n",
    "# For plotting, you can check: specfem2D/utils/Visualization/plot_kernel.py\n",
    "vmax = 2.5e-7\n",
    "X, Z, BETA = grid(x, z, beta)\n",
    "\n",
    "fig, ax = plt.subplots(figsize=(8, 8))\n",
    "im = ax.imshow(BETA, vmax=vmax, vmin=-vmax, extent=[x.min(), x.max(), z.min(), z.max()],\n",
    "               cmap=\"seismic_r\")\n",
    "ax.set_xlabel(\"X (m)\")\n",
    "ax.set_ylabel(\"Z (m)\")\n",
    "ax.set_title(\"Beta Kernel\")\n",
    "\n",
    "# Plot source and station\n",
    "ax.scatter(1000, 2000, 1000, marker=\"*\", color=\"black\", edgecolor=\"white\")\n",
    "ax.scatter(3000, 2000, 450, marker=\"v\", color=\"black\", edgecolor=\"white\")\n",
    "\n",
    "plt.colorbar(im, ax=ax);\n",
    "ax.tick_params(axis='both',which='major',labelsize=14)\n",
    "matplotlib.rcParams.update({'font.size': 14})"
   ]
  },
  {
   "cell_type": "code",
   "execution_count": null,
   "id": "84a35a4d",
   "metadata": {},
   "outputs": [],
   "source": []
  }
 ],
 "metadata": {
  "kernelspec": {
   "display_name": "Python 3 (ipykernel)",
   "language": "python",
   "name": "python3"
  },
  "language_info": {
   "codemirror_mode": {
    "name": "ipython",
    "version": 3
   },
   "file_extension": ".py",
   "mimetype": "text/x-python",
   "name": "python",
   "nbconvert_exporter": "python",
   "pygments_lexer": "ipython3",
   "version": "3.13.2"
  }
 },
 "nbformat": 4,
 "nbformat_minor": 5
}
