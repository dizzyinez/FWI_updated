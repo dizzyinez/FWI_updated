{
 "cells": [
  {
   "cell_type": "markdown",
   "id": "dbf8445d",
   "metadata": {},
   "source": [
    "# SPECFEM2D \n",
    "Installation and running an example.  \n",
    "prepared by Andrea R.   "
   ]
  },
  {
   "cell_type": "markdown",
   "id": "a79b9378",
   "metadata": {},
   "source": [
    "### INSTALLATION\n",
    "First, make sure that gfortran is installed on your computer. If your operative system is iOS, you will probably need to install XCODE. Look for the version of gfortran compatible with the installed version of XCODE. If you don't have XCODE installed, download it from the App Store and install the Command Line Tools (CLT). If the error \"Fortran compiler cannot create executables\" is prompted during the compilation of SPECFEM2D, uninstall and re-install CLT. Instructions for this can be found in the following video: https://youtu.be/8n_AfrQjgp4  \n",
    "\n",
    "1. Download SPECFEM2D, open the terminal and type this:\n",
    "\n",
    "```python\n",
    "git clone --recursive --branch devel https://github.com/SPECFEM/specfem2d.git\n",
    "```\n",
    "\n",
    "2. Configure the software for your system.   \n",
    "Serial run :   \n",
    "```python\n",
    "cd specfem2d\n",
    "./configure FC=gfortran CC=gcc \n",
    "```\n",
    "Parallel run:\n",
    "```python\n",
    "cd specfem2d\n",
    "./configure FC=gfortran CC=gcc MPIFC=mpif90 --with-mpi\n",
    "```\n",
    "\n",
    "3. In the main directory of Specfem2D type:\n",
    "```python\n",
    "make all\n",
    "```\n",
    "This command will create all the executable in the folder ./bin/.\n",
    "\n",
    "More detailed instructions on different compiler versions can be found in the user manual available in the following link:\n",
    "https://github.com/SPECFEM/specfem2d/blob/master/doc/USER_MANUAL/manual_SPECFEM2D.pdf \n",
    "\n",
    "#### In MAC, you might encounter the following compilation error:  \n",
    "\n",
    "gfortran -g -O2 -J./obj -I./obj -I. -std=f2003 -fimplicit-none -frange-check -fmax-errors=10 -pedantic -pedantic-errors -Waliasing -Wampersand -Wcharacter-truncation -Wline-truncation -Wsurprising -Wno-tabs -Wunderflow -ffpetrap=\n",
    "invalid,zero,overflow -Wunused -Werror -O3 -I./setup -c -o obj/adj_seismogram.aux.o src/auxiliaries/adj_seismogram.f90 src/auxiliaries/adj_seismogram.f90:62:36:\n",
    "62 | double precision :: seism(NSTEP,3),Nnorm,seism_win(NSTEP)\n",
    "| 1  \n",
    "Error: Array ‘seism’ at (1) is larger than limit set by ‘-fmax-stack-var-size=’, moved from stack to static storage. This makes the procedure unsafe when called recursively, or concurrently from multiple threads. Consider using ‘-frecursive’, or increase the\n",
    "‘-fmax-stack-var-size=’ limit, or change the code to use an ALLOCATABLE array. [-Werror=surprising] f951: all warnings being treated as errors make: *** [obj/adj_seismogram.aux.o] Error 1    \n",
    "\n",
    "</b> to fix this error run the configure including the following fortran flag FCFLAGS=-frecursive </b>  \n",
    "```python\n",
    "./configure FC=gfortran CC=gcc FCFLAGS=-frecursive  \n",
    "make all  \n",
    "```"
   ]
  },
  {
   "cell_type": "code",
   "execution_count": null,
   "id": "c6874914",
   "metadata": {},
   "outputs": [],
   "source": []
  }
 ],
 "metadata": {
  "kernelspec": {
   "display_name": "Python 3 (ipykernel)",
   "language": "python",
   "name": "python3"
  },
  "language_info": {
   "codemirror_mode": {
    "name": "ipython",
    "version": 3
   },
   "file_extension": ".py",
   "mimetype": "text/x-python",
   "name": "python",
   "nbconvert_exporter": "python",
   "pygments_lexer": "ipython3",
   "version": "3.13.2"
  }
 },
 "nbformat": 4,
 "nbformat_minor": 5
}
